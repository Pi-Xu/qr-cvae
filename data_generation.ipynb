{
 "cells": [
  {
   "cell_type": "markdown",
   "metadata": {},
   "source": [
    "# data generation for simulation of VAE"
   ]
  },
  {
   "cell_type": "code",
   "execution_count": 1,
   "metadata": {},
   "outputs": [],
   "source": [
    "from sklearn.datasets import make_moons\n",
    "import numpy as np\n",
    "\n",
    "def generate_data_with_moons(n_samples=500, noise=0.1):\n",
    "    z, labels = make_moons(n_samples=n_samples, noise=noise)\n",
    "    \n",
    "    z1 = z[:, 0]\n",
    "    z2 = z[:, 1]\n",
    "    \n",
    "    epsilon = np.random.normal(0, 1, size=(n_samples, 4))  \n",
    "    \n",
    "    v1 = z1 - z2 + epsilon[:, 0] * np.sqrt(0.03 + 0.05 * (3 + z1))\n",
    "    v2 = z1**2 - 0.5 * z2 + epsilon[:, 1] * np.sqrt(0.03 + 0.03 * np.linalg.norm(z1, axis=0)**2)\n",
    "    v3 = z1 * z2 - z1 + epsilon[:, 2] * np.sqrt(0.03 + 0.05 * np.linalg.norm(z1, axis=0)**2)\n",
    "    v4 = z1 + z2 + epsilon[:, 3] * np.sqrt(0.03 + 0.03 / (0.02 + np.linalg.norm(z1, axis=0)**2))\n",
    "    \n",
    "    data = np.vstack([v1, v2, v3, v4, labels]).T\n",
    "    \n",
    "    return data"
   ]
  },
  {
   "cell_type": "code",
   "execution_count": 19,
   "metadata": {},
   "outputs": [],
   "source": [
    "np.random.seed(42)\n",
    "data_train = generate_data_with_moons(n_samples=500, noise=0.1)\n",
    "data_test = generate_data_with_moons(n_samples=1000, noise=0.1)\n",
    "\n",
    "data_path = 'data/simple_sim/'\n",
    "\n",
    "import os\n",
    "os.makedirs(data_path, exist_ok=True)\n",
    "\n",
    "np.savetxt(data_path + 'train.csv', data_train, delimiter=',')\n",
    "np.savetxt(data_path + 'test.csv', data_test, delimiter=',')\n",
    "\n"
   ]
  },
  {
   "cell_type": "markdown",
   "metadata": {},
   "source": [
    "# data generation for simulation of C-VAE"
   ]
  },
  {
   "cell_type": "code",
   "execution_count": 1,
   "metadata": {},
   "outputs": [],
   "source": [
    "import numpy as np\n",
    "\n",
    "data_path = 'data/simple_sim_c/'\n",
    "\n",
    "def generate_data_with_condition(n_samples=500, sigma=1.0):\n",
    "    c = np.random.normal(2, 1, size=(n_samples, 3))\n",
    "\n",
    "    z = np.matmul(u.reshape(1, 2, 3), c.reshape(n_samples, 3, 1)) + np.random.normal(0, 1, size=(n_samples, 2, 1)) * sigma\n",
    "\n",
    "    z = z.squeeze()\n",
    "\n",
    "    z1 = z[:, 0]\n",
    "    z2 = z[:, 1]\n",
    "\n",
    "    epsilon = np.random.normal(0, 1, size=(n_samples, 4))  \n",
    "\n",
    "    v1 = z1 - z2 + epsilon[:, 0] * np.sqrt(0.03 + 0.05 * (3 + z1))\n",
    "    v2 = z1**2 - 0.5 * z2 + epsilon[:, 1] * np.sqrt(0.03 + 0.03 * np.linalg.norm(z1, axis=0)**2)\n",
    "    v3 = z1 * z2 - z1 + epsilon[:, 2] * np.sqrt(0.03 + 0.05 * np.linalg.norm(z1, axis=0)**2)\n",
    "    v4 = z1 + z2 + epsilon[:, 3] * np.sqrt(0.03 + 0.03 / (0.02 + np.linalg.norm(z1, axis=0)**2))\n",
    "\n",
    "    data = np.vstack([v1, v2, v3, v4]).T\n",
    "    data = np.hstack([data, c])\n",
    "    return data\n",
    "\n",
    "np.random.seed(42)\n",
    "u = np.random.normal(0, 3, size=(2, 3))\n",
    "data_train = generate_data_with_condition(n_samples=500, sigma=1.0)\n",
    "data_test = generate_data_with_condition(n_samples=300, sigma=1.0)"
   ]
  },
  {
   "cell_type": "code",
   "execution_count": 2,
   "metadata": {},
   "outputs": [],
   "source": [
    "import os\n",
    "os.makedirs(data_path, exist_ok=True)\n",
    "\n",
    "np.savetxt(data_path + 'train.csv', data_train, delimiter=',')\n",
    "np.savetxt(data_path + 'test.csv', data_test, delimiter=',')"
   ]
  },
  {
   "cell_type": "code",
   "execution_count": null,
   "metadata": {},
   "outputs": [],
   "source": []
  }
 ],
 "metadata": {
  "kernelspec": {
   "display_name": "activelearning",
   "language": "python",
   "name": "python3"
  },
  "language_info": {
   "codemirror_mode": {
    "name": "ipython",
    "version": 3
   },
   "file_extension": ".py",
   "mimetype": "text/x-python",
   "name": "python",
   "nbconvert_exporter": "python",
   "pygments_lexer": "ipython3",
   "version": "3.9.19"
  }
 },
 "nbformat": 4,
 "nbformat_minor": 2
}
